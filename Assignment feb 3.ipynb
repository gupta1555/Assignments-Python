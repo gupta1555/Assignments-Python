{
 "cells": [
  {
   "cell_type": "code",
   "execution_count": 1,
   "id": "d4c5f5b1-5465-4be1-a342-314ec3ddfa59",
   "metadata": {},
   "outputs": [
    {
     "name": "stdout",
     "output_type": "stream",
     "text": [
      "1\n",
      "5\n",
      "7\n",
      "2\n",
      "6\n"
     ]
    }
   ],
   "source": [
    "# ques 1\n",
    "#for loop is used when the number of iterations in known\n",
    "A=[1,5,7,2,6]\n",
    "for i in range(len(A)):\n",
    "    print(A[i])"
   ]
  },
  {
   "cell_type": "code",
   "execution_count": 2,
   "id": "cf31ac95-4aca-4bd1-8d50-a2948eab5fa2",
   "metadata": {},
   "outputs": [
    {
     "name": "stdout",
     "output_type": "stream",
     "text": [
      "1\n",
      "5\n",
      "7\n",
      "2\n",
      "6\n"
     ]
    }
   ],
   "source": [
    "# while loop runs until the statement is true\n",
    "i=0\n",
    "while i<=len(A)-1:\n",
    "    print(A[i])\n",
    "    i=i+1\n"
   ]
  },
  {
   "cell_type": "code",
   "execution_count": 3,
   "id": "58b8c0d9-5921-404a-8c38-2c92fa45ef94",
   "metadata": {},
   "outputs": [
    {
     "name": "stdout",
     "output_type": "stream",
     "text": [
      "sum of first 10 natural numbers is 55 and product is 3628800\n"
     ]
    }
   ],
   "source": [
    "#################################################Ques 2#######################################################\n",
    "sum=0\n",
    "prod=1\n",
    "for i in range(1,11):\n",
    "    sum=sum+i\n",
    "    prod=prod*i\n",
    "else :  \n",
    "    print(\"sum of first 10 natural numbers is\",sum,\"and product is\",prod)"
   ]
  },
  {
   "cell_type": "code",
   "execution_count": 4,
   "id": "2abb313b-24af-4b35-96ad-538b21e42888",
   "metadata": {},
   "outputs": [
    {
     "name": "stdout",
     "output_type": "stream",
     "text": [
      "sum of first 10 natural numbers is 55 and product is 3628800\n"
     ]
    }
   ],
   "source": [
    "sum=0\n",
    "prod=1\n",
    "i=1\n",
    "while i<=10:\n",
    "    sum=sum+i\n",
    "    prod=prod*i\n",
    "    i=i+1\n",
    "else :  \n",
    "    print(\"sum of first 10 natural numbers is\",sum,\"and product is\",prod)"
   ]
  },
  {
   "cell_type": "code",
   "execution_count": 5,
   "id": "e53796e8-7926-4773-9274-d99693a06289",
   "metadata": {},
   "outputs": [
    {
     "name": "stdin",
     "output_type": "stream",
     "text": [
      "Enter units of electricity consumed in a month 310\n"
     ]
    },
    {
     "name": "stdout",
     "output_type": "stream",
     "text": [
      "bill is 2250.0\n"
     ]
    }
   ],
   "source": [
    "#################################################Ques 3#######################################################\n",
    "units=int(input(\"Enter units of electricity consumed in a month\"))\n",
    "bill=0\n",
    "if units<=100:\n",
    "    bill=100*4.5\n",
    "    print(\"bill is\",bill)\n",
    "elif units<=200:\n",
    "    bill=100*4.5+100*6\n",
    "    print(\"bill is\",bill)\n",
    "elif units<=300:\n",
    "    bill=100*4.5+100*6+100*10\n",
    "    print(\"bill is\",bill)\n",
    "else:\n",
    "    bill=100*4.5+100*6+100*10+(units-300)*20\n",
    "    print(\"bill is\",bill)    \n"
   ]
  },
  {
   "cell_type": "code",
   "execution_count": 6,
   "id": "3c6bc7e6-678f-4a6d-ab63-67b826f5d8fb",
   "metadata": {},
   "outputs": [
    {
     "name": "stdout",
     "output_type": "stream",
     "text": [
      "[2, 4, 5, 6, 8, 10, 12, 14, 15, 16, 18, 20, 22, 24, 25, 26, 28, 30, 32, 34, 35, 36, 38, 40, 42, 44, 45, 46, 48, 50, 52, 54, 55, 56, 58, 60, 62, 64, 65, 66, 68, 70, 72, 74, 75, 76, 78, 80, 82, 84, 85, 86, 88, 90, 92, 94, 95, 96, 98, 100]\n"
     ]
    }
   ],
   "source": [
    "#################################################Ques 4#######################################################\n",
    "A=list(range(1,101))\n",
    "L=[]\n",
    "for i in A:\n",
    "    if (i*i*i)%4==0 or (i*i*i)%5==0:\n",
    "        L.append(i)\n",
    "else:\n",
    "    print(L)"
   ]
  },
  {
   "cell_type": "code",
   "execution_count": 7,
   "id": "241afdba-854a-494c-9565-3d670bf8daab",
   "metadata": {},
   "outputs": [
    {
     "name": "stdout",
     "output_type": "stream",
     "text": [
      "[2, 4, 5, 6, 8, 10, 12, 14, 15, 16, 18, 20, 22, 24, 25, 26, 28, 30, 32, 34, 35, 36, 38, 40, 42, 44, 45, 46, 48, 50, 52, 54, 55, 56, 58, 60, 62, 64, 65, 66, 68, 70, 72, 74, 75, 76, 78, 80, 82, 84, 85, 86, 88, 90, 92, 94, 95, 96, 98, 100]\n"
     ]
    }
   ],
   "source": [
    "#################################################Ques 4#######################################################\n",
    "A=list(range(1,101))\n",
    "L=[]\n",
    "i=1\n",
    "while i<=len(A)+1:\n",
    "    z=i*i*i\n",
    "    if z%4==0 or z%5==0:\n",
    "        L.append(i)\n",
    "    i=i+1\n",
    "else :\n",
    "    print(L)"
   ]
  },
  {
   "cell_type": "code",
   "execution_count": 8,
   "id": "bb4912b5-bfe0-45be-bba4-08caa8f319fe",
   "metadata": {},
   "outputs": [
    {
     "name": "stdout",
     "output_type": "stream",
     "text": [
      "numer of vowels are 12\n"
     ]
    }
   ],
   "source": [
    "#################################################Ques 5#######################################################\n",
    "string = \"I want to become a data scientist\"\n",
    "count=0\n",
    "for i in string:\n",
    "    if i=='a' or i=='e' or i=='i' or i=='o'or i=='u' or i=='A' or i=='E' or i=='I' or i=='O' or i=='U':\n",
    "        count=count+1    \n",
    "else:\n",
    "    print(\"numer of vowels are\",count)\n",
    "    "
   ]
  },
  {
   "cell_type": "code",
   "execution_count": null,
   "id": "bbf6b8cf-33a5-4622-a88b-a47b760e8ba3",
   "metadata": {},
   "outputs": [],
   "source": []
  }
 ],
 "metadata": {
  "kernelspec": {
   "display_name": "Python 3 (ipykernel)",
   "language": "python",
   "name": "python3"
  },
  "language_info": {
   "codemirror_mode": {
    "name": "ipython",
    "version": 3
   },
   "file_extension": ".py",
   "mimetype": "text/x-python",
   "name": "python",
   "nbconvert_exporter": "python",
   "pygments_lexer": "ipython3",
   "version": "3.10.8"
  }
 },
 "nbformat": 4,
 "nbformat_minor": 5
}
