{
 "cells": [
  {
   "cell_type": "code",
   "execution_count": 10,
   "id": "84005c00-ef7d-4ce9-8fae-3da2a3546600",
   "metadata": {},
   "outputs": [
    {
     "name": "stdin",
     "output_type": "stream",
     "text": [
      "Enter password ANki@#$123\n"
     ]
    },
    {
     "name": "stdout",
     "output_type": "stream",
     "text": [
      "valid password\n"
     ]
    }
   ],
   "source": [
    "###################ques 1\n",
    "password=input(\"Enter password\")\n",
    "if len(password)==10:\n",
    "    uppercase=0\n",
    "    lowercase=0\n",
    "    num=0\n",
    "    special=0\n",
    "    for i in password:\n",
    "        if i.islower():\n",
    "            lowercase=lowercase+1\n",
    "        elif i.isupper():\n",
    "            uppercase=uppercase+1\n",
    "        elif i.isnumeric():\n",
    "            num=num+1\n",
    "        elif not i.isalnum():\n",
    "            special=special+1\n",
    "    else:\n",
    "        if lowercase>=2 and uppercase>=2 and num>=1 and special==3:\n",
    "            print(\"valid password\")\n",
    "        else:\n",
    "            print(\"Invalid password\")\n",
    "else:\n",
    "    print(\"Invalid password\")          "
   ]
  },
  {
   "cell_type": "code",
   "execution_count": 13,
   "id": "aceead10-4c61-49b4-995a-38bfdbba4419",
   "metadata": {},
   "outputs": [],
   "source": [
    "###################ques 2\n",
    "#a)\n",
    "z=lambda x: True if x[0]=='a' or x[0]=='A'  else False\n",
    "z('ankita')"
   ]
  },
  {
   "cell_type": "code",
   "execution_count": 23,
   "id": "fee87083-9905-4798-8173-736745ffa9d7",
   "metadata": {},
   "outputs": [
    {
     "data": {
      "text/plain": [
       "False"
      ]
     },
     "execution_count": 23,
     "metadata": {},
     "output_type": "execute_result"
    }
   ],
   "source": [
    "#b)\n",
    "z=lambda x: True if x.isnumeric() else False\n",
    "z('12z')"
   ]
  },
  {
   "cell_type": "code",
   "execution_count": 112,
   "id": "4421b7de-beb1-4547-a2ff-0d770cce7bc3",
   "metadata": {},
   "outputs": [
    {
     "name": "stdout",
     "output_type": "stream",
     "text": [
      "[('orange', 80), ('mango', 99), ('grapes', 1000)]\n"
     ]
    }
   ],
   "source": [
    "#c)\n",
    "fruits = [(\"mango\", 99), (\"orange\", 80), (\"grapes\", 1000)]\n",
    "sorted_fruits = sorted(fruits, key=lambda x: x[1])\n",
    "print(sorted_fruits)"
   ]
  },
  {
   "cell_type": "code",
   "execution_count": 34,
   "id": "10944166-fb6f-422e-b4a3-750ff37ed98b",
   "metadata": {},
   "outputs": [
    {
     "data": {
      "text/plain": [
       "[1, 4, 9, 16, 25, 36, 49, 64, 81, 100]"
      ]
     },
     "execution_count": 34,
     "metadata": {},
     "output_type": "execute_result"
    }
   ],
   "source": [
    "#d)\n",
    "z=range(1,11)\n",
    "list(map(lambda x:x**2,z))"
   ]
  },
  {
   "cell_type": "code",
   "execution_count": 36,
   "id": "02473df4-ca90-42ee-a64f-b2f461b90138",
   "metadata": {},
   "outputs": [
    {
     "data": {
      "text/plain": [
       "[1, 8, 27, 64, 125, 216, 343, 512, 729, 1000]"
      ]
     },
     "execution_count": 36,
     "metadata": {},
     "output_type": "execute_result"
    }
   ],
   "source": [
    "#e)\n",
    "z=range(1,11)\n",
    "list([x**3 for x in z])"
   ]
  },
  {
   "cell_type": "code",
   "execution_count": 122,
   "id": "9ddba05c-155f-41c9-8939-304bc530b110",
   "metadata": {},
   "outputs": [
    {
     "name": "stdin",
     "output_type": "stream",
     "text": [
      "enter number 20\n"
     ]
    },
    {
     "data": {
      "text/plain": [
       "True"
      ]
     },
     "execution_count": 122,
     "metadata": {},
     "output_type": "execute_result"
    }
   ],
   "source": [
    "#f)\n",
    "num=int(input(\"enter number\"))\n",
    "z=lambda x: True if x%2==0  else False\n",
    "z(num)"
   ]
  },
  {
   "cell_type": "code",
   "execution_count": 46,
   "id": "f784e9bd-b1c3-499a-8ab3-82b706aae02f",
   "metadata": {},
   "outputs": [
    {
     "data": {
      "text/plain": [
       "[1, 3, 5, 7, 9]"
      ]
     },
     "execution_count": 46,
     "metadata": {},
     "output_type": "execute_result"
    }
   ],
   "source": [
    "#g)\n",
    "z=[1,2,3,4,5,6,7,8,9,10]\n",
    "k=list(filter(lambda x: x%2==1,z))\n",
    "k"
   ]
  },
  {
   "cell_type": "code",
   "execution_count": 53,
   "id": "b83593ae-82e5-468a-b0c9-8db85512f732",
   "metadata": {},
   "outputs": [
    {
     "name": "stdout",
     "output_type": "stream",
     "text": [
      "[1, 2, 3, 4, 5, 6, 0]\n",
      "[-1, -2, -3, -4, -5]\n"
     ]
    }
   ],
   "source": [
    "#h)\n",
    "z=[1,2,3,4,5,6,-1,-2,-3,-4,-5,0]\n",
    "posi=list(filter(lambda x: x >=0,z))\n",
    "neg=list(filter(lambda x: x <0,z))\n",
    "print(posi)\n",
    "print(neg)"
   ]
  }
 ],
 "metadata": {
  "kernelspec": {
   "display_name": "Python 3 (ipykernel)",
   "language": "python",
   "name": "python3"
  },
  "language_info": {
   "codemirror_mode": {
    "name": "ipython",
    "version": 3
   },
   "file_extension": ".py",
   "mimetype": "text/x-python",
   "name": "python",
   "nbconvert_exporter": "python",
   "pygments_lexer": "ipython3",
   "version": "3.10.8"
  }
 },
 "nbformat": 4,
 "nbformat_minor": 5
}
