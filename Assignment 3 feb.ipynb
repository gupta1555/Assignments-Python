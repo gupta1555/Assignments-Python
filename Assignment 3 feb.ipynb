{
 "cells": [
  {
   "cell_type": "code",
   "execution_count": 1,
   "id": "d1f3673f-5775-4615-8778-ecc0e12852bb",
   "metadata": {},
   "outputs": [],
   "source": [
    "############################################# ques 1 #################################################\n",
    "# def keyword is used to define a function in python\n",
    "def odd():\n",
    "    l=[]\n",
    "    for i in range(26):\n",
    "        if i%2==1:\n",
    "            l.append(i)\n",
    "    return l"
   ]
  },
  {
   "cell_type": "code",
   "execution_count": 6,
   "id": "0893f85c-e941-4257-8d67-627ca8379e91",
   "metadata": {},
   "outputs": [
    {
     "data": {
      "text/plain": [
       "[1, 3, 5, 7, 9, 11, 13, 15, 17, 19, 21, 23, 25]"
      ]
     },
     "execution_count": 6,
     "metadata": {},
     "output_type": "execute_result"
    }
   ],
   "source": [
    "odd()"
   ]
  },
  {
   "cell_type": "code",
   "execution_count": 2,
   "id": "b8af392f-02ce-48ca-8f21-2ece290b13f4",
   "metadata": {},
   "outputs": [],
   "source": [
    "########################################### ques 2###################################################\n",
    "# *args is used when we have variable number of arguments to be passed through a function\n",
    "# *kwargs is used when we have variable number of arguments to be passed through a function, put that arguments are of the dictionary type\n",
    "def ar(*args):\n",
    "    for i in args:\n",
    "        print(i)"
   ]
  },
  {
   "cell_type": "code",
   "execution_count": 8,
   "id": "7b406b5a-6f27-4bc1-9a57-0d13ef727813",
   "metadata": {},
   "outputs": [
    {
     "name": "stdout",
     "output_type": "stream",
     "text": [
      "1\n",
      "2\n",
      "3\n"
     ]
    }
   ],
   "source": [
    "ar(1,2,3)"
   ]
  },
  {
   "cell_type": "code",
   "execution_count": 3,
   "id": "0452ee69-51b7-4fb6-b4e1-1e75993ed691",
   "metadata": {},
   "outputs": [],
   "source": [
    "def ar(**kwargs):\n",
    "    for i,j in kwargs.items():\n",
    "        print(i,\"=\",j)"
   ]
  },
  {
   "cell_type": "code",
   "execution_count": 18,
   "id": "f9873c1f-533d-4c3b-b775-0973d1129d9e",
   "metadata": {},
   "outputs": [
    {
     "name": "stdout",
     "output_type": "stream",
     "text": [
      "n = ankita\n",
      "course = datascience\n"
     ]
    }
   ],
   "source": [
    "ar(n=\"ankita\",course=\"datascience\")"
   ]
  },
  {
   "cell_type": "code",
   "execution_count": 24,
   "id": "0b95d390-07c0-41d4-800f-d56c4e9b083c",
   "metadata": {},
   "outputs": [
    {
     "name": "stdout",
     "output_type": "stream",
     "text": [
      "2\n",
      "4\n",
      "6\n",
      "8\n",
      "10\n"
     ]
    }
   ],
   "source": [
    "#########################################ques 3#####################################\n",
    "#iterator is an object that contains finite number of values and can be iterated upon\n",
    "# iter() and next()\n",
    "l=[2, 4, 6, 8, 10, 12, 14, 16, 18, 20]\n",
    "l2=iter(l)\n",
    "print(next(l2))\n",
    "print(next(l2))\n",
    "print(next(l2))\n",
    "print(next(l2))\n",
    "print(next(l2))"
   ]
  },
  {
   "cell_type": "code",
   "execution_count": 25,
   "id": "0be2f16c-a91d-4513-8b74-f3e9f05bdded",
   "metadata": {},
   "outputs": [
    {
     "name": "stdout",
     "output_type": "stream",
     "text": [
      "2\n",
      "3\n",
      "5\n",
      "7\n",
      "11\n",
      "13\n",
      "17\n",
      "19\n",
      "23\n",
      "29\n",
      "31\n",
      "37\n",
      "41\n",
      "43\n",
      "47\n",
      "53\n",
      "59\n",
      "61\n",
      "67\n",
      "71\n"
     ]
    }
   ],
   "source": [
    "#########################################ques 4#####################################\n",
    "# a generator function are used when we used to return a sequence of values without storing them in memory\n",
    "# yield is used to produce a value from the generator.\n",
    "def prime(n):\n",
    "    for j in range(2,n):\n",
    "        for i in range(2,j):\n",
    "            if j%i==0:\n",
    "                break\n",
    "        else:\n",
    "            yield j\n",
    "x=prime(1000) \n",
    "for i in range(1,21):\n",
    "    print(next(x))"
   ]
  },
  {
   "cell_type": "code",
   "execution_count": 26,
   "id": "96d78d89-efba-4587-ac8f-240dcd01cf18",
   "metadata": {},
   "outputs": [
    {
     "name": "stdout",
     "output_type": "stream",
     "text": [
      "2\n",
      "3\n",
      "5\n",
      "7\n",
      "11\n",
      "13\n",
      "17\n",
      "19\n",
      "23\n",
      "29\n",
      "31\n",
      "37\n",
      "41\n",
      "43\n",
      "47\n",
      "53\n",
      "59\n",
      "61\n",
      "67\n",
      "71\n"
     ]
    }
   ],
   "source": [
    "#########################################ques 5#####################################\n",
    "def prime(n):\n",
    "    for j in range(2,n):\n",
    "        for i in range(2,j):\n",
    "            if j%i==0:\n",
    "                break\n",
    "        else:\n",
    "            yield j\n",
    "x=prime(1000) \n",
    "for i in range(1,21):\n",
    "    print(next(x))"
   ]
  },
  {
   "cell_type": "code",
   "execution_count": 5,
   "id": "6bb87d06-9ee1-4a0a-8510-d536fcf8cf65",
   "metadata": {},
   "outputs": [
    {
     "name": "stdout",
     "output_type": "stream",
     "text": [
      "0\n",
      "1\n",
      "1\n",
      "2\n",
      "3\n",
      "5\n",
      "8\n",
      "13\n",
      "21\n",
      "34\n",
      "89\n"
     ]
    }
   ],
   "source": [
    "#########################################ques 6#####################################\n",
    "i=1\n",
    "f0=0\n",
    "f1=1\n",
    "while i<=10:\n",
    "    fn=f0+f1\n",
    "    print(f0)\n",
    "    f0=f1\n",
    "    f1=fn\n",
    "    i=i+1\n",
    "else :\n",
    "    print(fn)\n"
   ]
  },
  {
   "cell_type": "code",
   "execution_count": 6,
   "id": "b91845a1-82a8-428b-b453-24643eb63998",
   "metadata": {},
   "outputs": [
    {
     "data": {
      "text/plain": [
       "['p', 'w', 's', 'k', 'i', 'l', 'l', 's']"
      ]
     },
     "execution_count": 6,
     "metadata": {},
     "output_type": "execute_result"
    }
   ],
   "source": [
    "#########################################ques 7#####################################\n",
    "[i for i in \"pwskills\"]"
   ]
  },
  {
   "cell_type": "code",
   "execution_count": 7,
   "id": "235b6a24-051d-4213-95c2-829034a1f6f1",
   "metadata": {},
   "outputs": [
    {
     "name": "stdin",
     "output_type": "stream",
     "text": [
      "Enter a value: 151\n"
     ]
    },
    {
     "name": "stdout",
     "output_type": "stream",
     "text": [
      "Palindrome number!\n"
     ]
    }
   ],
   "source": [
    "#########################################ques 8#####################################\n",
    "# we try to reverse the number and the compare with the original number\n",
    "number = int(input(\"Enter a value:\"))  \n",
    "original=number  \n",
    "reverse = 0  \n",
    "while(number > 0):  \n",
    "    unitdigit = number % 10  \n",
    "    reverse = reverse * 10 + unitdigit  \n",
    "    number = number // 10 \n",
    "if(original == reverse):  \n",
    "    print(\"Palindrome number!\")  \n",
    "else:  \n",
    "    print(\"Not a palindrome number!\")  "
   ]
  },
  {
   "cell_type": "code",
   "execution_count": 8,
   "id": "c2743d7f-1bae-4fdb-8dc8-0249055486de",
   "metadata": {},
   "outputs": [
    {
     "data": {
      "text/plain": [
       "[1,\n",
       " 3,\n",
       " 5,\n",
       " 7,\n",
       " 9,\n",
       " 11,\n",
       " 13,\n",
       " 15,\n",
       " 17,\n",
       " 19,\n",
       " 21,\n",
       " 23,\n",
       " 25,\n",
       " 27,\n",
       " 29,\n",
       " 31,\n",
       " 33,\n",
       " 35,\n",
       " 37,\n",
       " 39,\n",
       " 41,\n",
       " 43,\n",
       " 45,\n",
       " 47,\n",
       " 49,\n",
       " 51,\n",
       " 53,\n",
       " 55,\n",
       " 57,\n",
       " 59,\n",
       " 61,\n",
       " 63,\n",
       " 65,\n",
       " 67,\n",
       " 69,\n",
       " 71,\n",
       " 73,\n",
       " 75,\n",
       " 77,\n",
       " 79,\n",
       " 81,\n",
       " 83,\n",
       " 85,\n",
       " 87,\n",
       " 89,\n",
       " 91,\n",
       " 93,\n",
       " 95,\n",
       " 97,\n",
       " 99]"
      ]
     },
     "execution_count": 8,
     "metadata": {},
     "output_type": "execute_result"
    }
   ],
   "source": [
    "#########################################ques 9#####################################\n",
    "[i for i in range(101) if i%2==1]"
   ]
  }
 ],
 "metadata": {
  "kernelspec": {
   "display_name": "Python 3 (ipykernel)",
   "language": "python",
   "name": "python3"
  },
  "language_info": {
   "codemirror_mode": {
    "name": "ipython",
    "version": 3
   },
   "file_extension": ".py",
   "mimetype": "text/x-python",
   "name": "python",
   "nbconvert_exporter": "python",
   "pygments_lexer": "ipython3",
   "version": "3.10.8"
  }
 },
 "nbformat": 4,
 "nbformat_minor": 5
}
