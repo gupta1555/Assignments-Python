{
 "cells": [
  {
   "cell_type": "code",
   "execution_count": 1,
   "id": "9309a6f7-3685-4620-adcd-23c4ff851ca2",
   "metadata": {},
   "outputs": [
    {
     "name": "stdin",
     "output_type": "stream",
     "text": [
      "Enter percentage(>0) 50\n"
     ]
    },
    {
     "name": "stdout",
     "output_type": "stream",
     "text": [
      "Your grade is D\n"
     ]
    }
   ],
   "source": [
    "##ques 1\n",
    "percentage=int(input(\"Enter percentage(>0)\"))\n",
    "if percentage>90:\n",
    "    print(\"Your grade is A\")\n",
    "elif percentage>80:\n",
    "    print(\"Your grade is B\")\n",
    "elif percentage>=60:\n",
    "    print(\"Your grade is C\")\n",
    "else:\n",
    "    print(\"Your grade is D\")"
   ]
  },
  {
   "cell_type": "code",
   "execution_count": 2,
   "id": "936e6a41-f0e0-4577-8af3-61e4b8eece83",
   "metadata": {},
   "outputs": [
    {
     "name": "stdin",
     "output_type": "stream",
     "text": [
      "Enter Cost Price 500\n"
     ]
    },
    {
     "name": "stdout",
     "output_type": "stream",
     "text": [
      "Your tax is 5% i.e, 525.0\n"
     ]
    }
   ],
   "source": [
    "##ques 2\n",
    "cost_price=int(input(\"Enter Cost Price\"))\n",
    "if cost_price>100000:\n",
    "    print(\"Your tax is 15% i.e,\",cost_price*(1+0.15))\n",
    "elif cost_price>50000:\n",
    "    print(\"Your tax is 10% i.e,\",cost_price*(1+0.10))\n",
    "else:\n",
    "    print(\"Your tax is 5% i.e,\",cost_price*(1+0.05))"
   ]
  },
  {
   "cell_type": "code",
   "execution_count": 3,
   "id": "43d5f805-26f3-4278-bed8-7c3462d9a659",
   "metadata": {},
   "outputs": [
    {
     "name": "stdin",
     "output_type": "stream",
     "text": [
      "Enter city Delhi\n"
     ]
    },
    {
     "data": {
      "text/plain": [
       "'Red Fort'"
      ]
     },
     "execution_count": 3,
     "metadata": {},
     "output_type": "execute_result"
    }
   ],
   "source": [
    "## ques3\n",
    "d={\"Delhi\":\"Red Fort\", \"Agra\":\"\"}\n",
    "city=input(\"Enter city\")\n",
    "d[city]\n"
   ]
  },
  {
   "cell_type": "code",
   "execution_count": 10,
   "id": "6486969f-755a-440f-8b81-56a4a7129655",
   "metadata": {},
   "outputs": [
    {
     "name": "stdin",
     "output_type": "stream",
     "text": [
      "enter number 546\n"
     ]
    },
    {
     "name": "stdout",
     "output_type": "stream",
     "text": [
      "The number  546 is  1 times divisible by 3.\n"
     ]
    }
   ],
   "source": [
    "## ques4\n",
    "count=0\n",
    "number=int(input(\"enter number\"))\n",
    "num=number\n",
    "while number>10:\n",
    "    if number%3==0:\n",
    "        count=count+1\n",
    "        number=number//3\n",
    "    else:\n",
    "        break\n",
    "print(\"The number \",num, \"is \", count, \"times divisible by 3.\")"
   ]
  },
  {
   "cell_type": "code",
   "execution_count": 8,
   "id": "809c32f3-79a8-4b99-a7a6-5d1b0dcae1b7",
   "metadata": {},
   "outputs": [],
   "source": [
    "##ques 5\n",
    "#while loop is used to iterate a given set of statments until the statment se true. \n",
    "# example is ques 4"
   ]
  },
  {
   "cell_type": "code",
   "execution_count": null,
   "id": "9495dfde-c9e5-4248-8df8-fe6b47369527",
   "metadata": {},
   "outputs": [
    {
     "name": "stdout",
     "output_type": "stream",
     "text": [
      "1 \n",
      "2 2 \n",
      "3 3 3 \n",
      "4 4 4 4 \n",
      "5 5 5 5 5 \n"
     ]
    }
   ],
   "source": [
    "# ques 6\n",
    "#eg. 1\n",
    "rows=5\n",
    "i=1\n",
    "j=1\n",
    "while i<=rows: \n",
    "    j=1\n",
    "    while j<=i:\n",
    "        print(i, end=' ')\n",
    "        j=j+1\n",
    "    # new line after each row\n",
    "    print('')\n",
    "    i=i+1"
   ]
  },
  {
   "cell_type": "code",
   "execution_count": 18,
   "id": "075eb5b2-e6e9-42d1-996d-00a9f57a6351",
   "metadata": {},
   "outputs": [
    {
     "name": "stdout",
     "output_type": "stream",
     "text": [
      "1 \n",
      "1 2 \n",
      "1 2 3 \n",
      "1 2 3 4 \n",
      "1 2 3 4 5 \n"
     ]
    }
   ],
   "source": [
    "#eg. 2\n",
    "rows=5\n",
    "i=1\n",
    "j=1\n",
    "while i<=rows: \n",
    "    j=1\n",
    "    while j<=i:\n",
    "        print(j, end=' ')\n",
    "        j=j+1\n",
    "    # new line after each row\n",
    "    print('')\n",
    "    i=i+1"
   ]
  },
  {
   "cell_type": "code",
   "execution_count": 20,
   "id": "46730e67-2149-430c-a208-b022b08669c0",
   "metadata": {},
   "outputs": [
    {
     "name": "stdout",
     "output_type": "stream",
     "text": [
      "1 2 3 4 5 \n",
      "1 2 3 4 \n",
      "1 2 3 \n",
      "1 2 \n",
      "1 \n"
     ]
    }
   ],
   "source": [
    "#eg. 3\n",
    "rows=5\n",
    "i=1\n",
    "j=1\n",
    "while i<=rows: \n",
    "    j=1\n",
    "    while j<=rows:\n",
    "        print(j, end=' ')\n",
    "        j=j+1\n",
    "    # new line after each row\n",
    "    print('')\n",
    "    rows=rows-1"
   ]
  },
  {
   "cell_type": "code",
   "execution_count": 11,
   "id": "47d7a069-0a58-4d51-b544-57df6abc5232",
   "metadata": {},
   "outputs": [
    {
     "name": "stdout",
     "output_type": "stream",
     "text": [
      "10\n",
      "9\n",
      "8\n",
      "7\n",
      "6\n",
      "5\n",
      "4\n",
      "3\n",
      "2\n",
      "1\n"
     ]
    }
   ],
   "source": [
    "# ques 7\n",
    "i=10\n",
    "while i>0:\n",
    "    print(i)\n",
    "    i=i-1"
   ]
  },
  {
   "cell_type": "code",
   "execution_count": null,
   "id": "6016ec52-fbb5-4db4-8f36-caf5ed82471f",
   "metadata": {},
   "outputs": [],
   "source": [
    "## ques 8\n",
    "i=10\n",
    "while i>0:\n",
    "    print(i)\n",
    "    i=i-1"
   ]
  }
 ],
 "metadata": {
  "kernelspec": {
   "display_name": "Python 3 (ipykernel)",
   "language": "python",
   "name": "python3"
  },
  "language_info": {
   "codemirror_mode": {
    "name": "ipython",
    "version": 3
   },
   "file_extension": ".py",
   "mimetype": "text/x-python",
   "name": "python",
   "nbconvert_exporter": "python",
   "pygments_lexer": "ipython3",
   "version": "3.10.8"
  }
 },
 "nbformat": 4,
 "nbformat_minor": 5
}
