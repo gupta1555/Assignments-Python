{
 "cells": [
  {
   "cell_type": "code",
   "execution_count": 32,
   "id": "858b6fa2-31fc-44d5-ae3f-98e4dc048265",
   "metadata": {},
   "outputs": [
    {
     "data": {
      "text/plain": [
       "[1,\n",
       " 2,\n",
       " 3,\n",
       " 4,\n",
       " 44,\n",
       " 55,\n",
       " 66,\n",
       " 34,\n",
       " 56,\n",
       " 78,\n",
       " 89,\n",
       " 34,\n",
       " 1,\n",
       " 2,\n",
       " 3,\n",
       " 1,\n",
       " 34,\n",
       " 55,\n",
       " 67,\n",
       " 78,\n",
       " 89,\n",
       " 4,\n",
       " 45,\n",
       " 22,\n",
       " 61,\n",
       " 34,\n",
       " 56]"
      ]
     },
     "execution_count": 32,
     "metadata": {},
     "output_type": "execute_result"
    }
   ],
   "source": [
    "################ ques 1\n",
    "def flatlist(a):\n",
    "    flat=[]\n",
    "    for i in a:\n",
    "        if type(i)==int:\n",
    "            flat.append(i)\n",
    "        elif type(i)==list or type(i)==tuple or type(i)==set:\n",
    "            for j in i:\n",
    "                if type(j)==int:\n",
    "                    flat.append(j)\n",
    "        elif type(i)==dict:\n",
    "            for j in i.keys():\n",
    "                if type(j)==int:\n",
    "                    flat.append(j)\n",
    "                if type(i[j])==int:\n",
    "                    flat.append(i[j])\n",
    "                else:\n",
    "                    for k in i[j]:\n",
    "                        if type(k)==int:\n",
    "                            flat.append(k)\n",
    "                    \n",
    "                \n",
    "    return flat\n",
    "list1=[1,2,3,4,[44,55,66,True],False,(34,56,78,89,34),{1,2,3,3,2,1},{1:34,\"key2\":[55,67,78,89],4:(45,22,61,34)},[56,'data science'],'Machine Learning']\n",
    "flatlist(list1)"
   ]
  },
  {
   "cell_type": "code",
   "execution_count": 58,
   "id": "994c4621-d4df-4e50-b9c8-f4847223260f",
   "metadata": {},
   "outputs": [],
   "source": [
    "################ ques 2\n",
    "sentence=\"I want to become a Data Scientist\"\n",
    "sentence=sentence.lower()\n",
    "output=\"\"\n",
    "for i in sentence:\n",
    "    if i=='a':\n",
    "        output=output+'z'\n",
    "    elif i=='b':\n",
    "         output=output+'y'\n",
    "    elif i=='c':\n",
    "         output=output+'x'\n",
    "    elif i=='':\n",
    "         output=output+'$'\n",
    "    else:\n",
    "         output=output+i\n",
    "        \n",
    "print(output"
   ]
  },
  {
   "cell_type": "code",
   "execution_count": 59,
   "id": "4f8c892f-fb10-42e5-9d88-a04bd9e81df7",
   "metadata": {},
   "outputs": [
    {
     "data": {
      "text/plain": [
       "'i wznt to yexome z dztz sxientist'"
      ]
     },
     "execution_count": 59,
     "metadata": {},
     "output_type": "execute_result"
    }
   ],
   "source": []
  },
  {
   "cell_type": "code",
   "execution_count": null,
   "id": "4ff39a22-c334-4384-991a-fb41ee5d9f64",
   "metadata": {},
   "outputs": [],
   "source": []
  }
 ],
 "metadata": {
  "kernelspec": {
   "display_name": "Python 3 (ipykernel)",
   "language": "python",
   "name": "python3"
  },
  "language_info": {
   "codemirror_mode": {
    "name": "ipython",
    "version": 3
   },
   "file_extension": ".py",
   "mimetype": "text/x-python",
   "name": "python",
   "nbconvert_exporter": "python",
   "pygments_lexer": "ipython3",
   "version": "3.10.8"
  }
 },
 "nbformat": 4,
 "nbformat_minor": 5
}
