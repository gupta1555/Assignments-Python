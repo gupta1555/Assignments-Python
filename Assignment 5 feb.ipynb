{
 "cells": [
  {
   "cell_type": "code",
   "execution_count": 1,
   "id": "239d311b-5bc0-47cb-bcbb-863a3ca9eb9a",
   "metadata": {},
   "outputs": [],
   "source": [
    "# ques 1\n",
    "# object is an instance of a class. Class is a blueprint from which objects are created\n",
    "# eg. name is class and ankita is an object or you can call it variable"
   ]
  },
  {
   "cell_type": "code",
   "execution_count": 7,
   "id": "2383ee42-d73d-4886-a5e5-dcfa24a01a45",
   "metadata": {},
   "outputs": [],
   "source": [
    "class name:\n",
    "    pass"
   ]
  },
  {
   "cell_type": "code",
   "execution_count": 8,
   "id": "63d0da1a-54a4-4ccd-a60a-1d28eb784f6b",
   "metadata": {},
   "outputs": [],
   "source": [
    "ankita=name()"
   ]
  },
  {
   "cell_type": "code",
   "execution_count": 9,
   "id": "b61ba1e6-4774-4ce4-b933-3d5b47da2eed",
   "metadata": {},
   "outputs": [],
   "source": [
    "####################ques 2\n",
    "# inheritance, abstraction, polymorphism, encapsulation"
   ]
  },
  {
   "cell_type": "code",
   "execution_count": 10,
   "id": "70d9e044-cf00-4ab8-83de-830c9a008eab",
   "metadata": {},
   "outputs": [],
   "source": [
    "# ques 3\n",
    "# __init__ is a constructor in a class which is used to initialize attributes of the object"
   ]
  },
  {
   "cell_type": "code",
   "execution_count": 17,
   "id": "af965aea-e1e7-45ce-997e-9412a90d6bde",
   "metadata": {},
   "outputs": [],
   "source": [
    "class my:\n",
    "    def __init__(self,name):\n",
    "        self.name=name\n",
    "    def details(self):\n",
    "        return self.name"
   ]
  },
  {
   "cell_type": "code",
   "execution_count": 20,
   "id": "53cdff22-42f6-458c-9a08-183feb49b98e",
   "metadata": {},
   "outputs": [],
   "source": [
    "ankita=my(\"ankita\")"
   ]
  },
  {
   "cell_type": "code",
   "execution_count": 22,
   "id": "2b5b9a6f-cc57-419a-8b2f-2e1e83562e7b",
   "metadata": {},
   "outputs": [
    {
     "data": {
      "text/plain": [
       "'ankita'"
      ]
     },
     "execution_count": 22,
     "metadata": {},
     "output_type": "execute_result"
    }
   ],
   "source": [
    "ankita.name"
   ]
  },
  {
   "cell_type": "code",
   "execution_count": 23,
   "id": "285a3401-6b38-48c2-8f14-402f854131bb",
   "metadata": {},
   "outputs": [],
   "source": [
    "# ques 4\n",
    "# self is used as a pointer in a class. Using self one can access the attributes of a class. This is not a reserved keyword."
   ]
  },
  {
   "cell_type": "code",
   "execution_count": 24,
   "id": "1e8569f0-3aeb-43f7-862c-408c0d89f3d7",
   "metadata": {},
   "outputs": [],
   "source": [
    "# ques 5\n",
    "# it is a method by which one class acquire property of another class."
   ]
  },
  {
   "cell_type": "code",
   "execution_count": 1,
   "id": "56d2e385-3069-4259-8977-4328d8e87055",
   "metadata": {},
   "outputs": [
    {
     "name": "stdout",
     "output_type": "stream",
     "text": [
      "dog barking\n",
      "Animal Speaking\n"
     ]
    }
   ],
   "source": [
    "class name:  \n",
    "    def name1(self):  \n",
    "        print(\"My  name is Ankita\")  \n",
    "#child class Dog inherits the base class Animal  \n",
    "class Dog(Animal):  \n",
    "    def bark(self):  \n",
    "        print(\"dog barking\")  \n",
    "d = Dog()  \n",
    "d.bark()  \n",
    "d.speak()  "
   ]
  },
  {
   "cell_type": "code",
   "execution_count": null,
   "id": "ca70c0d8-0331-4b79-b480-40ed0a0d43fa",
   "metadata": {},
   "outputs": [],
   "source": []
  }
 ],
 "metadata": {
  "kernelspec": {
   "display_name": "Python 3 (ipykernel)",
   "language": "python",
   "name": "python3"
  },
  "language_info": {
   "codemirror_mode": {
    "name": "ipython",
    "version": 3
   },
   "file_extension": ".py",
   "mimetype": "text/x-python",
   "name": "python",
   "nbconvert_exporter": "python",
   "pygments_lexer": "ipython3",
   "version": "3.10.8"
  }
 },
 "nbformat": 4,
 "nbformat_minor": 5
}
