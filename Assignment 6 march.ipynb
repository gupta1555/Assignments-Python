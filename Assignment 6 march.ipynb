{
 "cells": [
  {
   "cell_type": "code",
   "execution_count": 1,
   "id": "a013962d-1b97-410c-951b-d0d7b67a3033",
   "metadata": {},
   "outputs": [],
   "source": [
    "###########################ques1\n",
    "# statistics is measuring, oragnzing and analyzing of data"
   ]
  },
  {
   "cell_type": "code",
   "execution_count": 5,
   "id": "36724f20-a2c8-4b78-a3f5-b10f6c6dc376",
   "metadata": {},
   "outputs": [],
   "source": [
    "############## ques2\n",
    "# statistics is of two types, descriptive and inferential\n",
    "# Take an example of marks of the 10 students. if I take out the average of the marks, \n",
    "#it will come under descriptive data, because average is a central tendency but if I say\n",
    "# 10 % of the students score more then 80 marks, this means I am giving studying my sample points."
   ]
  },
  {
   "cell_type": "code",
   "execution_count": 6,
   "id": "a2e0187a-ddb9-442c-93bc-ebec299301c5",
   "metadata": {},
   "outputs": [],
   "source": [
    "######ques 3\n",
    "# there are two types of data qualitative and quantitative.\n",
    "# quantitaive data can further be discrete or continuous and is always a numerical value.\n",
    "# eg. petrol in a vehicle, time, weight, height\n",
    "# qualitative data can be ordinal or nominal (eg- customer feedback, color of the eyes, gender)"
   ]
  },
  {
   "cell_type": "code",
   "execution_count": 7,
   "id": "c429c73a-0965-4611-8247-063150217d9b",
   "metadata": {},
   "outputs": [],
   "source": [
    "#####ques 4\n",
    "# (i)qualitative- ordinal\n",
    "# (ii) qualitative- nominal\n",
    "# (iii) quantitative-continuous\n",
    "# (iv) quantitative- discrete"
   ]
  },
  {
   "cell_type": "code",
   "execution_count": 8,
   "id": "0f99558a-0254-4bef-8c48-22381d74bde3",
   "metadata": {},
   "outputs": [],
   "source": [
    "#####ques 5\n",
    "# there are four types of scale of measurement\n",
    "# (i) nominal- order does not matter  eg- color of skin\n",
    "# ordinal- order matters, difference between two data points cannot be measured eg-   income is high low or average\n",
    "# interval- order matters, difference can be measured, ratio cannot and no starting/ zero point    eg- temperature\n",
    "# ratio- order matters, ratio measured, difference measured and has a starting point eg-marks of students in a class"
   ]
  },
  {
   "cell_type": "code",
   "execution_count": 9,
   "id": "1deaa8d2-fd80-481d-a6d1-97b3b14b109e",
   "metadata": {},
   "outputs": [],
   "source": [
    "# ques 6\n",
    "# the level of measurment helps us in deciding which type of statistical methods can be used, thus helping in drawing suitable conclusions."
   ]
  },
  {
   "cell_type": "code",
   "execution_count": 10,
   "id": "671b2bec-d959-4c57-9d74-e93bb34796a0",
   "metadata": {},
   "outputs": [],
   "source": [
    "#####ques 7\n",
    "# there are four types of scale of measurement\n",
    "#  nominal- order does not matter  eg- color of skin\n",
    "# ordinal- order matters, difference between two data points cannot be measured eg-   income is high low or average"
   ]
  },
  {
   "cell_type": "code",
   "execution_count": 11,
   "id": "49e8987f-46a8-4359-bfa1-c256e5a149fb",
   "metadata": {},
   "outputs": [],
   "source": [
    "#ques 8\n",
    "# bar charts or histograms\n"
   ]
  },
  {
   "cell_type": "code",
   "execution_count": 12,
   "id": "8c9855b3-41a4-4fcb-8675-c3d286d63382",
   "metadata": {},
   "outputs": [],
   "source": [
    "# ques 9\n",
    "# statistics is of two types, descriptive and inferential\n",
    "# Take an example of marks of the 10 students. if I take out the average of the marks, \n",
    "#it will come under descriptive data, because average is a central tendency but if I say\n",
    "# 10 % of the students score more then 80 marks, this means I am studying my sample points, thus giving some information out of data."
   ]
  },
  {
   "cell_type": "code",
   "execution_count": null,
   "id": "e01052bf-73f3-4818-b0ef-b2a9f5262399",
   "metadata": {},
   "outputs": [],
   "source": []
  },
  {
   "cell_type": "code",
   "execution_count": null,
   "id": "f8394d1b-67e7-4de7-b6aa-49a934b321e2",
   "metadata": {},
   "outputs": [],
   "source": [
    "#ques 10\n",
    "# central tendencies are mean, mode and median\n",
    "# mean gives the average of the values, median gives the middle values and mode gives the value with the maximum frequency\n",
    "# variabilties are standard deviation, variance which is a measure of the deviation for the "
   ]
  }
 ],
 "metadata": {
  "kernelspec": {
   "display_name": "Python 3 (ipykernel)",
   "language": "python",
   "name": "python3"
  },
  "language_info": {
   "codemirror_mode": {
    "name": "ipython",
    "version": 3
   },
   "file_extension": ".py",
   "mimetype": "text/x-python",
   "name": "python",
   "nbconvert_exporter": "python",
   "pygments_lexer": "ipython3",
   "version": "3.10.8"
  }
 },
 "nbformat": 4,
 "nbformat_minor": 5
}
